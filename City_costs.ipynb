{
 "cells": [
  {
   "cell_type": "code",
   "execution_count": 1,
   "id": "1a9e3770-cced-453b-a494-a83cefe955dc",
   "metadata": {},
   "outputs": [],
   "source": [
    "import pandas as pd"
   ]
  },
  {
   "cell_type": "code",
   "execution_count": 37,
   "id": "1e638c94-fb5e-4347-91f2-1e08d60ea867",
   "metadata": {},
   "outputs": [
    {
     "name": "stderr",
     "output_type": "stream",
     "text": [
      "/Users/rishikesanravichandran/miniconda3/envs/epl_analytics/lib/python3.8/site-packages/IPython/core/interactiveshell.py:3508: DtypeWarning: Columns (13) have mixed types.Specify dtype option on import or set low_memory=False.\n",
      "  exec(code_obj, self.user_global_ns, self.user_ns)\n"
     ]
    }
   ],
   "source": [
    "sf_budget_data = pd.read_csv('SF_budget.csv')"
   ]
  },
  {
   "cell_type": "code",
   "execution_count": 38,
   "id": "561b129c-a3c0-4f36-a716-82864180bacb",
   "metadata": {},
   "outputs": [
    {
     "data": {
      "text/html": [
       "<div>\n",
       "<style scoped>\n",
       "    .dataframe tbody tr th:only-of-type {\n",
       "        vertical-align: middle;\n",
       "    }\n",
       "\n",
       "    .dataframe tbody tr th {\n",
       "        vertical-align: top;\n",
       "    }\n",
       "\n",
       "    .dataframe thead th {\n",
       "        text-align: right;\n",
       "    }\n",
       "</style>\n",
       "<table border=\"1\" class=\"dataframe\">\n",
       "  <thead>\n",
       "    <tr style=\"text-align: right;\">\n",
       "      <th></th>\n",
       "      <th>Fiscal Year</th>\n",
       "      <th>Revenue or Spending</th>\n",
       "      <th>Related Govt Unit</th>\n",
       "      <th>Organization Group Code</th>\n",
       "      <th>Organization Group</th>\n",
       "      <th>Department Code</th>\n",
       "      <th>Department</th>\n",
       "      <th>Program Code</th>\n",
       "      <th>Program</th>\n",
       "      <th>Character Code</th>\n",
       "      <th>...</th>\n",
       "      <th>Object</th>\n",
       "      <th>Sub-object Code</th>\n",
       "      <th>Sub-object</th>\n",
       "      <th>Fund Type Code</th>\n",
       "      <th>Fund Type</th>\n",
       "      <th>Fund Code</th>\n",
       "      <th>Fund</th>\n",
       "      <th>Fund Category Code</th>\n",
       "      <th>Fund Category</th>\n",
       "      <th>Budget</th>\n",
       "    </tr>\n",
       "  </thead>\n",
       "  <tbody>\n",
       "    <tr>\n",
       "      <th>0</th>\n",
       "      <td>2021</td>\n",
       "      <td>Spending</td>\n",
       "      <td>Spending</td>\n",
       "      <td>2</td>\n",
       "      <td>Public Works, Transportation &amp; Commerce</td>\n",
       "      <td>DPW</td>\n",
       "      <td>DPW - Public Works</td>\n",
       "      <td>CAP</td>\n",
       "      <td>Capital</td>\n",
       "      <td>NON_PERS_SVCS</td>\n",
       "      <td>...</td>\n",
       "      <td>Professional/Specialized Svcs</td>\n",
       "      <td>527040</td>\n",
       "      <td>Construction Contracts</td>\n",
       "      <td>SP_REV</td>\n",
       "      <td>Special Revenue Funds</td>\n",
       "      <td>SP_REV~12780</td>\n",
       "      <td>SR Road</td>\n",
       "      <td>3.0</td>\n",
       "      <td>Continuing Projects - Authority Control</td>\n",
       "      <td>0.0</td>\n",
       "    </tr>\n",
       "    <tr>\n",
       "      <th>1</th>\n",
       "      <td>2021</td>\n",
       "      <td>Spending</td>\n",
       "      <td>Spending</td>\n",
       "      <td>2</td>\n",
       "      <td>Public Works, Transportation &amp; Commerce</td>\n",
       "      <td>DPW</td>\n",
       "      <td>DPW - Public Works</td>\n",
       "      <td>CAP</td>\n",
       "      <td>Capital</td>\n",
       "      <td>MAND_FRING_BEN</td>\n",
       "      <td>...</td>\n",
       "      <td>Dental Coverage</td>\n",
       "      <td>516010</td>\n",
       "      <td>Dental Coverage</td>\n",
       "      <td>ENT_FUND</td>\n",
       "      <td>Enterprise Funds</td>\n",
       "      <td>ENT_FUND~SU_STREETS</td>\n",
       "      <td>Sustainable Streets</td>\n",
       "      <td>0.0</td>\n",
       "      <td>Unspecified</td>\n",
       "      <td>0.0</td>\n",
       "    </tr>\n",
       "    <tr>\n",
       "      <th>2</th>\n",
       "      <td>2021</td>\n",
       "      <td>Spending</td>\n",
       "      <td>Spending</td>\n",
       "      <td>2</td>\n",
       "      <td>Public Works, Transportation &amp; Commerce</td>\n",
       "      <td>MTA</td>\n",
       "      <td>MTA Municipal Transprtn Agncy</td>\n",
       "      <td>CAP</td>\n",
       "      <td>Capital</td>\n",
       "      <td>OH_ALLOCS</td>\n",
       "      <td>...</td>\n",
       "      <td>Overhead</td>\n",
       "      <td>520010</td>\n",
       "      <td>Indirect Cost Reimbursement</td>\n",
       "      <td>ENT_FUND</td>\n",
       "      <td>Enterprise Funds</td>\n",
       "      <td>ENT_FUND~MTA_TRANSIT</td>\n",
       "      <td>Transit</td>\n",
       "      <td>6.0</td>\n",
       "      <td>Continuing Projects - Project Control</td>\n",
       "      <td>0.0</td>\n",
       "    </tr>\n",
       "    <tr>\n",
       "      <th>3</th>\n",
       "      <td>2021</td>\n",
       "      <td>Spending</td>\n",
       "      <td>Spending</td>\n",
       "      <td>2</td>\n",
       "      <td>Public Works, Transportation &amp; Commerce</td>\n",
       "      <td>DPW</td>\n",
       "      <td>DPW - Public Works</td>\n",
       "      <td>CAP</td>\n",
       "      <td>Capital</td>\n",
       "      <td>MAND_FRING_BEN</td>\n",
       "      <td>...</td>\n",
       "      <td>Unemployment Insurance</td>\n",
       "      <td>517010</td>\n",
       "      <td>Unemployment Insurance</td>\n",
       "      <td>ENT_FUND</td>\n",
       "      <td>Enterprise Funds</td>\n",
       "      <td>ENT_FUND~SU_STREETS</td>\n",
       "      <td>Sustainable Streets</td>\n",
       "      <td>3.0</td>\n",
       "      <td>Continuing Projects - Authority Control</td>\n",
       "      <td>0.0</td>\n",
       "    </tr>\n",
       "    <tr>\n",
       "      <th>4</th>\n",
       "      <td>2021</td>\n",
       "      <td>Spending</td>\n",
       "      <td>Spending</td>\n",
       "      <td>4</td>\n",
       "      <td>Community Health</td>\n",
       "      <td>DPH</td>\n",
       "      <td>DPH Public Health</td>\n",
       "      <td>OPR</td>\n",
       "      <td>Operating</td>\n",
       "      <td>MAND_FRING_BEN</td>\n",
       "      <td>...</td>\n",
       "      <td>Social Security</td>\n",
       "      <td>514010</td>\n",
       "      <td>Social Security (OASDI &amp; HI)</td>\n",
       "      <td>SP_REV</td>\n",
       "      <td>Special Revenue Funds</td>\n",
       "      <td>SP_REV~11580</td>\n",
       "      <td>SR Community Health-Grants</td>\n",
       "      <td>4.0</td>\n",
       "      <td>Grants Projects</td>\n",
       "      <td>1204742.0</td>\n",
       "    </tr>\n",
       "  </tbody>\n",
       "</table>\n",
       "<p>5 rows × 22 columns</p>\n",
       "</div>"
      ],
      "text/plain": [
       "   Fiscal Year Revenue or Spending Related Govt Unit  Organization Group Code  \\\n",
       "0         2021            Spending          Spending                        2   \n",
       "1         2021            Spending          Spending                        2   \n",
       "2         2021            Spending          Spending                        2   \n",
       "3         2021            Spending          Spending                        2   \n",
       "4         2021            Spending          Spending                        4   \n",
       "\n",
       "                        Organization Group Department Code  \\\n",
       "0  Public Works, Transportation & Commerce             DPW   \n",
       "1  Public Works, Transportation & Commerce             DPW   \n",
       "2  Public Works, Transportation & Commerce             MTA   \n",
       "3  Public Works, Transportation & Commerce             DPW   \n",
       "4                         Community Health             DPH   \n",
       "\n",
       "                      Department Program Code    Program  Character Code  ...  \\\n",
       "0             DPW - Public Works          CAP    Capital   NON_PERS_SVCS  ...   \n",
       "1             DPW - Public Works          CAP    Capital  MAND_FRING_BEN  ...   \n",
       "2  MTA Municipal Transprtn Agncy          CAP    Capital       OH_ALLOCS  ...   \n",
       "3             DPW - Public Works          CAP    Capital  MAND_FRING_BEN  ...   \n",
       "4              DPH Public Health          OPR  Operating  MAND_FRING_BEN  ...   \n",
       "\n",
       "                          Object Sub-object Code  \\\n",
       "0  Professional/Specialized Svcs          527040   \n",
       "1                Dental Coverage          516010   \n",
       "2                       Overhead          520010   \n",
       "3         Unemployment Insurance          517010   \n",
       "4                Social Security          514010   \n",
       "\n",
       "                     Sub-object Fund Type Code              Fund Type  \\\n",
       "0        Construction Contracts         SP_REV  Special Revenue Funds   \n",
       "1               Dental Coverage       ENT_FUND       Enterprise Funds   \n",
       "2   Indirect Cost Reimbursement       ENT_FUND       Enterprise Funds   \n",
       "3        Unemployment Insurance       ENT_FUND       Enterprise Funds   \n",
       "4  Social Security (OASDI & HI)         SP_REV  Special Revenue Funds   \n",
       "\n",
       "              Fund Code                        Fund Fund Category Code  \\\n",
       "0          SP_REV~12780                     SR Road                3.0   \n",
       "1   ENT_FUND~SU_STREETS         Sustainable Streets                0.0   \n",
       "2  ENT_FUND~MTA_TRANSIT                     Transit                6.0   \n",
       "3   ENT_FUND~SU_STREETS         Sustainable Streets                3.0   \n",
       "4          SP_REV~11580  SR Community Health-Grants                4.0   \n",
       "\n",
       "                             Fund Category     Budget  \n",
       "0  Continuing Projects - Authority Control        0.0  \n",
       "1                              Unspecified        0.0  \n",
       "2    Continuing Projects - Project Control        0.0  \n",
       "3  Continuing Projects - Authority Control        0.0  \n",
       "4                          Grants Projects  1204742.0  \n",
       "\n",
       "[5 rows x 22 columns]"
      ]
     },
     "execution_count": 38,
     "metadata": {},
     "output_type": "execute_result"
    }
   ],
   "source": [
    "sf_budget_data.head()"
   ]
  },
  {
   "cell_type": "code",
   "execution_count": 34,
   "id": "7b553df0-ae3c-4835-b675-31c45119afea",
   "metadata": {},
   "outputs": [],
   "source": [
    "# Filter for relevant budget items related to healthcare, emergency services, and traffic management\n",
    "health_emergency_keywords = [\"Emergency\"]\n",
    "traffic_keywords = [\"Transportation\"]\n",
    "\n",
    "# Filter data to find relevant entries\n",
    "relevant_health_emergency = sf_budget_data[sf_budget_data['Department'].str.contains('|'.join(health_emergency_keywords), case=False, na=False)]\n",
    "relevant_traffic = sf_budget_data[sf_budget_data['Department'].str.contains('|'.join(traffic_keywords), case=False, na=False)]\n",
    "\n",
    "# Identify the number of unique fiscal years in the dataset\n",
    "unique_years = sf_budget_data['Fiscal Year'].nunique()\n",
    "\n",
    "# Calculate the average annual savings based on the number of unique fiscal years\n",
    "average_annual_savings_health = potential_savings_health / unique_years\n",
    "average_annual_savings_traffic = potential_savings_traffic / unique_years\n",
    "\n",
    "# Assuming a 30% reduction scenario\n",
    "reduction_percentage = 30\n",
    "potential_savings_health_annually = average_annual_savings_health * (reduction_percentage / 100)\n",
    "potential_savings_traffic_annually = average_annual_savings_traffic * (reduction_percentage / 100)\n"
   ]
  },
  {
   "cell_type": "code",
   "execution_count": 35,
   "id": "6ce10ecf-dd35-47bf-8858-db1497e9c74e",
   "metadata": {},
   "outputs": [
    {
     "data": {
      "text/plain": [
       "93622379.59124999"
      ]
     },
     "execution_count": 35,
     "metadata": {},
     "output_type": "execute_result"
    }
   ],
   "source": [
    "potential_savings_traffic_annually"
   ]
  },
  {
   "cell_type": "code",
   "execution_count": 45,
   "id": "410c929a-6fc3-42ee-8c65-674b03c7216d",
   "metadata": {},
   "outputs": [
    {
     "data": {
      "text/plain": [
       "(0.0, 0.0, 0.0)"
      ]
     },
     "execution_count": 45,
     "metadata": {},
     "output_type": "execute_result"
    }
   ],
   "source": [
    "# Filter data to find entries that contain both \"Emergency\" and \"Transportation\" in the Department field\n",
    "relevant_emergency_transportation = sf_budget_data[\n",
    "    sf_budget_data['Department'].str.contains('Medical', case=False, na=False) &\n",
    "    sf_budget_data['Department'].str.contains('Pedestrian', case=False, na=False)\n",
    "]\n",
    "\n",
    "# Calculate total budgets for emergency transportation services\n",
    "emergency_transportation_budget_total = relevant_emergency_transportation['Budget'].sum()\n",
    "\n",
    "# Calculate the average annual budget based on the number of unique fiscal years\n",
    "average_annual_budget_emergency_transport = emergency_transportation_budget_total / unique_years\n",
    "\n",
    "# Assuming a 30% reduction scenario for Vision Zero achievements\n",
    "potential_savings_emergency_transport_annually = average_annual_budget_emergency_transport * (reduction_percentage / 100)\n",
    "\n",
    "emergency_transportation_budget_total, average_annual_budget_emergency_transport, potential_savings_emergency_transport_annually\n"
   ]
  },
  {
   "cell_type": "markdown",
   "id": "26bd7a73-e735-4dd2-8819-a4089c888e9d",
   "metadata": {},
   "source": [
    "health_emergency_keywords = [\"Health\", \"Hospital\", \"Medical\", \"Emergency\", \"Ambulance\"]\n",
    "traffic_keywords = [\"Traffic\", \"Transportation\", \"Road\", \"Street\", \"Pedestrian\", \"Safety\"]"
   ]
  },
  {
   "cell_type": "code",
   "execution_count": 46,
   "id": "a506c228-8355-4974-b846-ce20a01bacdd",
   "metadata": {},
   "outputs": [
    {
     "data": {
      "text/plain": [
       "array(['DPW - Public Works', 'MTA Municipal Transprtn Agncy',\n",
       "       'DPH Public Health', 'WAR War Memorial',\n",
       "       'ADM GSA - City Administrator', 'AIR Airport Commission',\n",
       "       'TTX Treasurer/Tax Collector', 'HRD Human Resources',\n",
       "       'HSA Human Services Agency', 'REC Recreation & Park Commsn',\n",
       "       'PUC Public Utilities Commsn', 'CON Controller',\n",
       "       'HOM Homelessness Services', 'DT  GSA - Technology',\n",
       "       'CPC City Planning', 'DAT District Attorney', 'SHF Sheriff',\n",
       "       'FIR Fire Department', 'ART Arts Commission',\n",
       "       'CFC Children & Families Commsn', 'POL Police',\n",
       "       'ASR Assessor / Recorder', 'ENV Environment',\n",
       "       'CHF Children;Youth & Families', 'LIB Public Library', 'PRT Port',\n",
       "       'ECN Economic & Wrkfrce Dvlpmnt', 'DEM Emergency Management',\n",
       "       'DBI Building Inspection', 'FAM Fine Arts Museum',\n",
       "       'PDR Public Defender', 'ADP Adult Probation',\n",
       "       'BOS Board of Supervisors', 'AAM Asian Art Museum',\n",
       "       'HSS Health Service System', 'RET Retirement System',\n",
       "       'GEN General City / Unallocated', 'MYR Mayor',\n",
       "       'RNT Rent Arbitration Board', 'HRC Human Rights Commission',\n",
       "       'USD County Education Office', 'REG Elections',\n",
       "       'CAT City Attorney', 'JUV Juvenile Probation',\n",
       "       'BOA Board of Appeals', 'CSS Child Support Services',\n",
       "       'LLB Law Library', 'DPA Police Accountabilty',\n",
       "       'CRT Superior Court', 'WOM Status of Women',\n",
       "       'CCD SF Communtiy College Dist', 'CSC Civil Service Commission',\n",
       "       'ETH Ethics Commission', 'SCI Academy of Sciences',\n",
       "       'CII Community Invest/Infrastr', 'SDA Shrf Dept Ofc Inspctr Genl',\n",
       "       'DEC Dept of Early Childhood', 'SAS Dept of Sanitation & Sts',\n",
       "       'CTA SF County Transprtn Auth', 'TJP Transbay Joint Power Auth',\n",
       "       'Public Health', 'Public Library',\n",
       "       'Recreation and Park Commission', 'Academy of Sciences',\n",
       "       'Arts Commission', 'Asian Art Museum', 'Fine Arts Museum',\n",
       "       'Law Library', 'War Memorial', 'Assessor/Recorder',\n",
       "       'Board of Supervisors', 'City Attorney', 'City Planning',\n",
       "       'General Services Agency - City Admin', 'Civil Service Commission',\n",
       "       'Controller', 'Elections', 'Ethics Commission',\n",
       "       'General Services Agency - Technology', 'Health Service System',\n",
       "       'Human Resources', 'Mayor', 'Retirement System',\n",
       "       'Treasurer/Tax Collector', 'General Fund Unallocated',\n",
       "       'Child Support Services', 'Children and Families Commission',\n",
       "       'Children, Youth & Their Families', 'County Education Office',\n",
       "       'Department of the Status of Women', 'Environment',\n",
       "       'General City Responsibility', 'Human Services',\n",
       "       'Rent Arbitration Board', 'Adult Probation',\n",
       "       'Department of Emergency Management', 'Human Rights Commission',\n",
       "       'Police', 'Public Defender', 'Sheriff', 'Superior Court',\n",
       "       'Airport Commission', 'District Attorney', 'Fire Department',\n",
       "       'Juvenile Probation', 'General Services Agency - Public Works',\n",
       "       'Board of Appeals', 'Department of Building Inspection',\n",
       "       'Economic and Workforce Development',\n",
       "       'Municipal Transportation Agency', 'PUC Hetch Hetchy',\n",
       "       'PUC Public Utilities Commission', 'PUC Wastewater Enterprise',\n",
       "       'PUC Water Department', 'Port',\n",
       "       'Community Investment & Infrastructure',\n",
       "       'Homelessness and Supportive Housing', 'PUC Clean Power',\n",
       "       'Police Accountability'], dtype=object)"
      ]
     },
     "execution_count": 46,
     "metadata": {},
     "output_type": "execute_result"
    }
   ],
   "source": [
    "sf_budget_data['Department'].unique()"
   ]
  },
  {
   "cell_type": "code",
   "execution_count": 56,
   "id": "4060019f-d2a4-403e-a92d-7349a9f53624",
   "metadata": {},
   "outputs": [
    {
     "data": {
      "text/plain": [
       "array(['Parking Off Street Parking Oper Fund', 'Muni Operating Fund',\n",
       "       'Parking & Traffic Operating Fund',\n",
       "       'Parking & Traffic Off-Street Parking Fnd',\n",
       "       'Muni Special Revenue Fund', 'Taxi Commission Operating Fund',\n",
       "       'Bicycle Operating Fund', 'Pedestrian Operating Fund',\n",
       "       'Parking & Traffic Capital Projects Fund',\n",
       "       'Muni Operating Grants Fund', 'Muni Capital Projects Fund'],\n",
       "      dtype=object)"
      ]
     },
     "execution_count": 56,
     "metadata": {},
     "output_type": "execute_result"
    }
   ],
   "source": [
    "sf_budget_data.query(\"Department=='Municipal Transportation Agency'\")['Fund'].unique()"
   ]
  },
  {
   "cell_type": "code",
   "execution_count": 54,
   "id": "ea4dccd6-e1ad-4b3d-94ba-9f5a3eaac334",
   "metadata": {},
   "outputs": [
    {
     "data": {
      "text/plain": [
       "array(['SR Community Health-Grants', 'GF Annual Account Ctrl',\n",
       "       'GF Continuing Authority Ctrl', 'SR Public Health',\n",
       "       'SFGH-Operating Fund', 'SFGH-Capital Projects Fund',\n",
       "       'LHH-Operating Fund', 'LHH-Capital Projects Fund', 'GF Work Order',\n",
       "       'GF Annual Authority Ctrl', 'LHH Debt Service Fund',\n",
       "       'CP SF Capital Planning', 'LHH-Trust & Agency Fund',\n",
       "       'CPXCF 2008 SFGH IMP S2014A', 'CPXCF 16 PH & SFTY 1St S17A',\n",
       "       'CPXCF 2008 SFGH IMP S2010A', 'SR ETF-Gift',\n",
       "       'Hetchy Operating Fund', 'CPXCF 2008 SFGH IMP S2012D',\n",
       "       'CPXCF 2008 SFGH IMP TAX S2010C', 'CleanPowerSF Operating Fund',\n",
       "       'SR Public Protection-Grant', 'SR Public Protection-Grant Oth',\n",
       "       'SR Comm Health-COVID Stim-FED', 'CPXCF 16 PH & SFTY 3rd S20D',\n",
       "       'SR OCOH Nov18 PropCHomelessSvc', 'LHH-Operating Grants Fund',\n",
       "       'CPXCF COP Crit Reprs/Rcv Stmls', 'CPXCF 2008 SFGH IMP S2009A',\n",
       "       'SR OCOH Nov18 PropC GF Advance', 'CPXCF 20 HEALTH&RECOV S2021D',\n",
       "       'SR  Civil Service-Spec Rev', 'SR Homeland Security',\n",
       "       'Port-Capital', 'SR Opioid Settlement Fund',\n",
       "       'SR Courts Grants Cont Fed', 'CPXCF DPH 101Grove/1064Mis COP',\n",
       "       'CWP-Operating Fund', 'DSGOB SB1128 REV FOR LHH GOB',\n",
       "       'SR Outreach Fund - Prop J', 'CPXCF 16 PH & SFTY 2nd S18E',\n",
       "       'Tax Collector State Rev Fund', 'DPH HCSO',\n",
       "       'SR Community Health-Grants Oth', 'Port Operating',\n",
       "       'SFWD-Operating Fund', 'CPXCF 10 EQ SFTY&EMY RE S2012A',\n",
       "       'LHH - Patient Trust', 'Continuing Authority Ctrl',\n",
       "       'Public Health State Rev Fund', 'Port-South Beach Harbor',\n",
       "       'CP Cmed Building', 'Edison Schools', 'SFGH-Trust & Agency Fund'],\n",
       "      dtype=object)"
      ]
     },
     "execution_count": 54,
     "metadata": {},
     "output_type": "execute_result"
    }
   ],
   "source": [
    "sf_budget_data.query(\"Department=='DPH Public Health'\")['Fund'].unique()"
   ]
  },
  {
   "cell_type": "code",
   "execution_count": 55,
   "id": "fcc85d6b-90fe-4cea-8c19-5344c2eb78ca",
   "metadata": {},
   "outputs": [
    {
     "data": {
      "text/plain": [
       "array(['GF Annual Account Ctrl', 'HSS Dental Ben Trust Fund',\n",
       "       'HSS ADMIN GF SUPPORT FD', 'HSS Medical Ben Trust Fund',\n",
       "       'HSS Non-Charter Benefits', 'HSS Reserve'], dtype=object)"
      ]
     },
     "execution_count": 55,
     "metadata": {},
     "output_type": "execute_result"
    }
   ],
   "source": [
    "sf_budget_data.query(\"Department=='HSS Health Service System'\")['Fund'].unique()"
   ]
  },
  {
   "cell_type": "code",
   "execution_count": null,
   "id": "51c6ff04-dfa9-4238-a13f-ae9f8ac0f183",
   "metadata": {},
   "outputs": [],
   "source": []
  }
 ],
 "metadata": {
  "kernelspec": {
   "display_name": "Python [conda env:epl_analytics] *",
   "language": "python",
   "name": "conda-env-epl_analytics-py"
  },
  "language_info": {
   "codemirror_mode": {
    "name": "ipython",
    "version": 3
   },
   "file_extension": ".py",
   "mimetype": "text/x-python",
   "name": "python",
   "nbconvert_exporter": "python",
   "pygments_lexer": "ipython3",
   "version": "3.8.18"
  }
 },
 "nbformat": 4,
 "nbformat_minor": 5
}
